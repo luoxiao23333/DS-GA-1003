{
 "cells": [
  {
   "cell_type": "markdown",
   "id": "7c2a09f5-af50-4d3f-9478-dbf907730bc5",
   "metadata": {
    "jp-MarkdownHeadingCollapsed": true,
    "tags": []
   },
   "source": [
    "# Import and Constract Dataset"
   ]
  },
  {
   "cell_type": "code",
   "execution_count": 8,
   "id": "eeeeb22f-18b4-480e-ade3-4183c4ee52e6",
   "metadata": {},
   "outputs": [],
   "source": [
    "import numpy as np\n",
    "import scipy.optimize\n",
    "from scipy.optimize import minimize\n",
    "\n",
    "root_dir: str = \"Lab2//data//\"\n",
    "def construct_dataset():\n",
    "    m = 150  # data rows\n",
    "    d = 75  # feature dimensions\n",
    "    X: np.ndarray = np.random.rand(m, d)\n",
    "    theta: np.ndarray = np.zeros(shape=(d, 1))\n",
    "\n",
    "    theta[:10] = np.array([10 if np.random.randint(0, 2) == 0 else -10 for _ in range(10)]).reshape((10, 1))\n",
    "\n",
    "    epsilon: np.ndarray = np.random.normal(loc=0, scale=0.1, size=(m, 1))\n",
    "    y: np.ndarray = np.dot(X, theta) + epsilon\n",
    "    \n",
    "    np.savetxt(root_dir + \"X_train.txt\", X[:80])\n",
    "    np.savetxt(root_dir + \"X_validation.txt\", X[80:100])\n",
    "    np.savetxt(root_dir + \"X_test.txt\", X[100:])\n",
    "    np.savetxt(root_dir + \"X.txt\", X[:])\n",
    "    np.savetxt(root_dir + \"Y_train.txt\", y[:80])\n",
    "    np.savetxt(root_dir + \"Y_validation.txt\", y[80:100])\n",
    "    np.savetxt(root_dir + \"Y_test.txt\", y[100:])\n",
    "    np.savetxt(root_dir + \"Y.txt\", y[:])\n",
    "\n",
    "\n",
    "construct_dataset()\n"
   ]
  },
  {
   "cell_type": "markdown",
   "id": "3052342c-5f07-450b-a97c-c2199a5503d7",
   "metadata": {
    "jp-MarkdownHeadingCollapsed": true,
    "tags": []
   },
   "source": [
    "# Ridge Regression"
   ]
  },
  {
   "cell_type": "code",
   "execution_count": 10,
   "id": "13abe6f8-d004-4da3-b161-f5151c5b6ba8",
   "metadata": {},
   "outputs": [
    {
     "name": "stdout",
     "output_type": "stream",
     "text": [
      "lambda:  1e-05 loss:  0.008713433584521039\n",
      "lambda:  0.0001 loss:  0.21215329964425256\n",
      "lambda:  0.001 loss:  0.9052485084699834\n",
      "lambda:  0.01 loss:  2.008252294219313\n",
      "lambda:  0.1 loss:  5.319148897642792\n",
      "lambda:  1 loss:  7.52612187475231\n",
      "lambda:  10 loss:  8.82599214386983\n",
      "lambda:  100 loss:  13.176956788171845\n",
      "lambda:  1000 loss:  14.407460974371187\n",
      "lambda:  10000 loss:  14.549752458880935\n",
      "lambda:  100000 loss:  14.56419938076532\n",
      "lambda:  1e-05 min loss 0.008713433584521039\n",
      "theta result is: \n",
      " [-9.89207587e+00  9.79697225e+00 -9.77003135e+00  9.99556613e+00\n",
      "  9.90628412e+00  9.92926202e+00  9.80449422e+00 -1.00572693e+01\n",
      " -1.01368215e+01  1.00989530e+01  1.84867181e-01  1.18619597e-01\n",
      " -7.97759808e-02 -3.35754263e-01  1.70214002e-01  4.13195617e-02\n",
      "  5.47307209e-02  1.62624666e-01 -2.47763306e-03  5.87920743e-02\n",
      " -1.81911270e-03 -9.26412251e-02 -5.95487400e-02  1.88576702e-02\n",
      " -9.68252153e-02 -1.67602253e-01 -9.14761259e-02 -8.46451030e-02\n",
      " -1.17419686e-01  1.16961698e-01  1.78351201e-02  1.33687527e-02\n",
      " -1.31025178e-01 -9.33979292e-02 -1.56665303e-02  3.64960983e-02\n",
      "  4.63874323e-02 -1.71420339e-02 -5.89409185e-02 -6.51148566e-02\n",
      "  1.05167333e-01 -6.85465807e-02 -3.17609105e-02 -8.44771259e-02\n",
      "  1.44126795e-01  5.74322059e-02  1.53247454e-02  4.40965722e-02\n",
      "  2.33147519e-01  1.01006463e-01  1.23793793e-01 -2.40378976e-01\n",
      "  4.30681705e-02  7.04055198e-02  2.36030263e-01 -4.05345006e-02\n",
      "  1.08111512e-01 -4.38132384e-02  6.33712865e-02 -1.36770098e-02\n",
      " -7.88423188e-03  8.45216311e-02  5.75332021e-02 -1.35237941e-01\n",
      "  1.48400040e-01  9.89103600e-02 -2.00701794e-01 -1.23053052e-01\n",
      " -4.90090247e-02  2.12079677e-01 -5.21298414e-02  2.66952314e-02\n",
      " -5.11161341e-02 -9.39578035e-03  3.69696937e-02]\n",
      "True zero count is 0, values smaller than 0.001 is 36\n"
     ]
    }
   ],
   "source": [
    "def ridge_regression_test():\n",
    "    def ridge(Lambda):\n",
    "        def ridge_obj(theta):\n",
    "            return ((np.linalg.norm(np.dot(X_train, theta) - y_train)) ** 2) \\\n",
    "                   / (2 * N) + Lambda * (np.linalg.norm(theta)) ** 2\n",
    "\n",
    "        return ridge_obj\n",
    "\n",
    "    def compute_loss(Lambda, theta):\n",
    "        return ((np.linalg.norm(np.dot(X_valid, theta) - y_valid)) ** 2) / (2 * N)\n",
    "\n",
    "    X_train = np.loadtxt(root_dir + \"X_train.txt\")\n",
    "    X_valid = np.loadtxt(root_dir + \"X_validation.txt\")\n",
    "    y_train = np.loadtxt(root_dir + \"Y_train.txt\")\n",
    "    y_valid = np.loadtxt(root_dir + \"Y_validation.txt\")\n",
    "\n",
    "    (N, D) = X_train.shape\n",
    "    w = np.random.rand(D)\n",
    "\n",
    "    min_lambda = 0\n",
    "    min_loss = 1e100\n",
    "    min_opt_result: scipy.optimize.OptimizeResult\n",
    "    for i in range(-5, 6):\n",
    "        Lambda = 10 ** i\n",
    "        w_opt = minimize(ridge(Lambda), w)\n",
    "        loss = compute_loss(Lambda, w_opt.x)\n",
    "        if loss < min_loss:\n",
    "            min_loss = loss\n",
    "            min_opt_result = w_opt\n",
    "            min_lambda = Lambda\n",
    "        print(\"lambda: \", Lambda, \"loss: \", loss)\n",
    "    print(\"lambda: \", min_lambda, \"min loss\", min_loss)\n",
    "    print(\"theta result is: \\n\", min_opt_result.x)\n",
    "\n",
    "    true_zero_count = 0\n",
    "    thresh_hold = 1e-3\n",
    "    small_count = 0\n",
    "    for ele in min_opt_result.x:\n",
    "        if ele == 0:\n",
    "            true_zero_count = true_zero_count + 1\n",
    "        elif ele <= thresh_hold:\n",
    "            small_count = small_count + 1\n",
    "    print(\"True zero count is {0}, values smaller than {1} is {2}\"\n",
    "          .format(true_zero_count, thresh_hold, small_count))\n",
    "\n",
    "\n",
    "ridge_regression_test()"
   ]
  },
  {
   "cell_type": "code",
   "execution_count": null,
   "id": "1bfc8224-d4b8-462a-9319-33b781058e94",
   "metadata": {},
   "outputs": [],
   "source": []
  }
 ],
 "metadata": {
  "kernelspec": {
   "display_name": "Python 3 (ipykernel)",
   "language": "python",
   "name": "python3"
  },
  "language_info": {
   "codemirror_mode": {
    "name": "ipython",
    "version": 3
   },
   "file_extension": ".py",
   "mimetype": "text/x-python",
   "name": "python",
   "nbconvert_exporter": "python",
   "pygments_lexer": "ipython3",
   "version": "3.9.9"
  }
 },
 "nbformat": 4,
 "nbformat_minor": 5
}
