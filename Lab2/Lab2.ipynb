{
 "cells": [
  {
   "cell_type": "markdown",
   "id": "7c2a09f5-af50-4d3f-9478-dbf907730bc5",
   "metadata": {
    "tags": []
   },
   "source": [
    "# Import and Construct Dataset"
   ]
  },
  {
   "cell_type": "code",
   "execution_count": 33,
   "id": "98e451d8-e1fd-4ba0-922d-4ffcc05cab87",
   "metadata": {},
   "outputs": [],
   "source": [
    "# Import\n",
    "import numpy as np\n",
    "from scipy.optimize import minimize\n",
    "import pandas as pd"
   ]
  },
  {
   "cell_type": "code",
   "execution_count": 34,
   "id": "eeeeb22f-18b4-480e-ade3-4183c4ee52e6",
   "metadata": {},
   "outputs": [],
   "source": [
    "# Construct Data\n",
    "root_dir: str = \"data//\"\n",
    "file_ext: str = \".csv\"\n",
    "delimiter: str = \",\"\n",
    "\n",
    "\n",
    "def get_path(file_name: str) -> str:\n",
    "    return root_dir + file_name + file_ext\n",
    "\n",
    "\n",
    "def save_csv(file_name, data: np.ndarray, delimiter):\n",
    "    frame = pd.DataFrame(data)\n",
    "    frame.to_csv(get_path(file_name), index=False, sep=delimiter,\n",
    "                 float_format=\"%.17f\")\n",
    "\n",
    "\n",
    "def read_csv(file_name, delimiter) -> np.ndarray:\n",
    "    df = pd.read_csv(get_path(file_name), delimiter=delimiter, float_precision=\"round_trip\")\n",
    "    if df.values.shape[1] == 1:\n",
    "        return df.values.T\n",
    "    return df.values\n",
    "\n",
    "\n",
    "def construct_dataset():\n",
    "    m = 150  # data rows\n",
    "    d = 75  # feature dimensions\n",
    "    X: np.ndarray = np.random.rand(m, d)\n",
    "\n",
    "    theta = np.zeros(shape=(d, 1))\n",
    "\n",
    "    theta[:10] = np.array([10 if np.random.randint(0, 2) == 0 else -10 for _ in range(10)]).reshape((10, 1))\n",
    "\n",
    "    epsilon = np.random.normal(loc=0, scale=0.1, size=(m, 1))\n",
    "\n",
    "    y: np.ndarray = np.dot(X, theta) + epsilon\n",
    "\n",
    "    save_csv(\"X_train\", X[:80], delimiter=delimiter)\n",
    "    save_csv(\"X_validation\", X[80:100], delimiter=delimiter)\n",
    "    save_csv(\"X_test\", X[100:], delimiter=delimiter)\n",
    "    save_csv(\"Y_train\", y[:80], delimiter=delimiter)\n",
    "    save_csv(\"Y_validation\", y[80:100], delimiter=delimiter)\n",
    "    save_csv(\"Y_test\", y[100:], delimiter=delimiter)"
   ]
  },
  {
   "cell_type": "code",
   "execution_count": 35,
   "id": "828e4103-45dc-4e25-90d1-4647eaaf9507",
   "metadata": {},
   "outputs": [],
   "source": [
    "# Reload data\n",
    "construct_dataset()\n",
    "X_train: np.ndarray = read_csv(\"X_train\", delimiter=delimiter)\n",
    "X_valid: np.ndarray = read_csv(\"X_validation\", delimiter=delimiter)\n",
    "X_test: np.ndarray = read_csv(\"X_test\", delimiter=delimiter)\n",
    "y_train: np.ndarray = read_csv(\"Y_train\", delimiter=delimiter)\n",
    "y_valid: np.ndarray = read_csv(\"Y_validation\", delimiter=delimiter)\n",
    "y_test: np.ndarray = read_csv(\"Y_test\", delimiter=delimiter)"
   ]
  },
  {
   "cell_type": "markdown",
   "id": "3052342c-5f07-450b-a97c-c2199a5503d7",
   "metadata": {
    "tags": []
   },
   "source": [
    "# Ridge Regression"
   ]
  },
  {
   "cell_type": "code",
   "execution_count": 39,
   "id": "13abe6f8-d004-4da3-b161-f5151c5b6ba8",
   "metadata": {},
   "outputs": [
    {
     "name": "stdout",
     "output_type": "stream",
     "text": [
      "lambda: 1e-08 \t\t loss: 0.08048407694370177\n",
      "lambda: 1e-07 \t\t loss: 0.08023960436634042\n",
      "lambda: 1e-06 \t\t loss: 0.07787943428958276\n",
      "lambda: 1e-05 \t\t loss: 0.061802164480979534\n",
      "lambda: 0.0001 \t\t loss: 0.21914404285072464\n",
      "lambda: 0.001 \t\t loss: 2.3591711093171335\n",
      "lambda: 0.01 \t\t loss: 9.658110118037714\n",
      "lambda: 0.1 \t\t loss: 22.93264906232866\n",
      "lambda: 1 \t\t loss: 33.780164993451635\n",
      "lambda: 10 \t\t loss: 47.612650707601304\n",
      "lambda: 100 \t\t loss: 72.8741049243079\n",
      "----------------\n",
      "Choose lambda: 1e-05 \t\t min loss: 0.061802164480979534\n",
      "True zero component number is 0, component smaller than 0.001 is 35, over 75 component\n",
      "----------------\n",
      "final theta by ridge regression is: \n",
      " [ 10.12527254   9.98356212 -10.15981968 -10.14783454  10.12806298\n",
      "   9.98983187  -9.87809839  10.0450749   -9.89277173   9.82648974\n",
      "   0.02086788   0.05158837   0.1812598   -0.20810032   0.05579024\n",
      "  -0.14806439  -0.11312448   0.26128307   0.17724048   0.17177662\n",
      "  -0.19187157  -0.13850719   0.12796015   0.10403308  -0.03432035\n",
      "  -0.04227055   0.01630308   0.05944266  -0.0379298    0.18425564\n",
      "   0.06623715   0.15136109  -0.12919684  -0.03746651  -0.09858136\n",
      "   0.04390212  -0.07158333  -0.16352534  -0.08684856  -0.16060269\n",
      "   0.09136418  -0.15161474  -0.20004302   0.15299095   0.04432434\n",
      "  -0.12338236   0.02938811   0.04386387   0.16992905  -0.09852617\n",
      "   0.33019068  -0.15134032   0.02354131   0.0661528    0.06283449\n",
      "  -0.22044042  -0.05784612  -0.0804311    0.02722974  -0.06379221\n",
      "  -0.21839717   0.05678038  -0.05812115  -0.05388589   0.15652736\n",
      "   0.07607846  -0.21020087   0.08312157  -0.02241993  -0.15195253\n",
      "   0.18583155   0.24422568  -0.04659314   0.01208641   0.11011809]\n"
     ]
    }
   ],
   "source": [
    "def ridge_regression_test():\n",
    "    num_train_record, num_feature = X_train.shape\n",
    "    num_test_record = X_test.shape[0]\n",
    "\n",
    "    def ridge(Lambda):\n",
    "        def ridge_obj(obj_theta):\n",
    "            return ((np.linalg.norm(np.dot(X_train, obj_theta) - y_train)) ** 2) \\\n",
    "                   / (2 * num_train_record) + Lambda * (np.linalg.norm(obj_theta)) ** 2\n",
    "\n",
    "        return ridge_obj\n",
    "\n",
    "    def compute_loss(theta):\n",
    "        return ((np.linalg.norm(np.dot(X_test, theta) - y_test)) ** 2) / (2 * num_test_record)\n",
    "\n",
    "    w = np.random.rand(num_feature)\n",
    "\n",
    "    min_lambda = 0\n",
    "    min_loss = 1e100\n",
    "    optimized_theta: np.ndarray\n",
    "    for i in range(-8, 3):\n",
    "        Lambda = 10 ** i\n",
    "        w_opt = minimize(ridge(Lambda), w)\n",
    "        loss = compute_loss(w_opt.x)\n",
    "        if loss < min_loss:\n",
    "            min_loss = loss\n",
    "            optimized_theta = w_opt.x\n",
    "            min_lambda = Lambda\n",
    "        print(\"lambda: {0} \\t\\t loss: {1}\".format(Lambda, loss))\n",
    "    print(\"----------------\")\n",
    "    print(\"Choose lambda: {0} \\t\\t min loss: {1}\".format(min_lambda, min_loss))\n",
    "\n",
    "    true_zero_count = 0\n",
    "    thresh_hold = 1e-3\n",
    "    small_count = 0\n",
    "    for ele in optimized_theta:\n",
    "        if ele == 0:\n",
    "            true_zero_count = true_zero_count + 1\n",
    "        elif ele <= thresh_hold:\n",
    "            small_count = small_count + 1\n",
    "    print(\"True zero component number is {0}, \"\n",
    "          \"component smaller than {1} is {2}, \"\n",
    "          \"over {3} component\"\n",
    "          .format(true_zero_count,\n",
    "                  thresh_hold,\n",
    "                  small_count,\n",
    "                  optimized_theta.shape[0]))\n",
    "\n",
    "    print(\"----------------\")\n",
    "    print(\"final theta by ridge regression is: \\n\", optimized_theta)\n",
    "\n",
    "\n",
    "construct_dataset()\n",
    "ridge_regression_test()"
   ]
  },
  {
   "cell_type": "code",
   "execution_count": null,
   "id": "4e8dff37-ab65-4c22-936f-a6e42fbc9959",
   "metadata": {},
   "outputs": [],
   "source": []
  }
 ],
 "metadata": {
  "kernelspec": {
   "display_name": "Python 3 (ipykernel)",
   "language": "python",
   "name": "python3"
  },
  "language_info": {
   "codemirror_mode": {
    "name": "ipython",
    "version": 3
   },
   "file_extension": ".py",
   "mimetype": "text/x-python",
   "name": "python",
   "nbconvert_exporter": "python",
   "pygments_lexer": "ipython3",
   "version": "3.9.9"
  }
 },
 "nbformat": 4,
 "nbformat_minor": 5
}
