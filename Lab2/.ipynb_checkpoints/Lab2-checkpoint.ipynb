{
 "cells": [
  {
   "cell_type": "markdown",
   "id": "7c2a09f5-af50-4d3f-9478-dbf907730bc5",
   "metadata": {
    "tags": []
   },
   "source": [
    "# Import and Constract Dataset"
   ]
  },
  {
   "cell_type": "code",
   "execution_count": 134,
   "id": "98e451d8-e1fd-4ba0-922d-4ffcc05cab87",
   "metadata": {},
   "outputs": [],
   "source": [
    "# Import\n",
    "import numpy as np\n",
    "import scipy.optimize\n",
    "from scipy.optimize import minimize\n",
    "import pandas as pd"
   ]
  },
  {
   "cell_type": "code",
   "execution_count": 135,
   "id": "eeeeb22f-18b4-480e-ade3-4183c4ee52e6",
   "metadata": {},
   "outputs": [],
   "source": [
    "# Construct Data\n",
    "root_dir: str = \"data//\"\n",
    "file_ext: str = \".csv\"\n",
    "delimiter: str = \",\"\n",
    "\n",
    "\n",
    "def get_path(file_name: str) -> str:\n",
    "    return root_dir + file_name + file_ext\n",
    "\n",
    "\n",
    "def save_csv(file_name, data: np.ndarray, delimiter):\n",
    "    frame = pd.DataFrame(data)\n",
    "    frame.to_csv(get_path(file_name), index=False, sep=delimiter,\n",
    "                 float_format=\"%.17f\")\n",
    "\n",
    "\n",
    "def read_csv(file_name, delimiter) -> np.ndarray:\n",
    "    df = pd.read_csv(get_path(file_name), delimiter=delimiter, float_precision=\"round_trip\")\n",
    "    if df.values.shape[1] == 1:\n",
    "        return df.values.T\n",
    "    return df.values\n",
    "\n",
    "\n",
    "def construct_dataset():\n",
    "    m = 150  # data rows\n",
    "    d = 75  # feature dimensions\n",
    "    X: np.ndarray = np.random.rand(m, d)\n",
    "\n",
    "    theta = np.zeros(shape=(d, 1))\n",
    "\n",
    "    theta[:10] = np.array([10 if np.random.randint(0, 2) == 0 else -10 for _ in range(10)]).reshape((10, 1))\n",
    "\n",
    "    epsilon = np.random.normal(loc=0, scale=0.1, size=(m, 1))\n",
    "\n",
    "    y: np.ndarray = np.dot(X, theta) + epsilon\n",
    "\n",
    "    save_csv(\"X_train\", X[:80], delimiter=delimiter)\n",
    "    save_csv(\"X_validation\", X[80:100], delimiter=delimiter)\n",
    "    save_csv(\"X_test\", X[100:], delimiter=delimiter)\n",
    "    save_csv(\"Y_train\", y[:80], delimiter=delimiter)\n",
    "    save_csv(\"Y_validation\", y[80:100], delimiter=delimiter)\n",
    "    save_csv(\"Y_test\", y[100:], delimiter=delimiter)"
   ]
  },
  {
   "cell_type": "code",
   "execution_count": 136,
   "id": "828e4103-45dc-4e25-90d1-4647eaaf9507",
   "metadata": {},
   "outputs": [],
   "source": [
    "# Reload data\n",
    "construct_dataset()\n",
    "X_train: np.ndarray = read_csv(\"X_train\", delimiter=delimiter)\n",
    "X_valid: np.ndarray = read_csv(\"X_validation\", delimiter=delimiter)\n",
    "X_test: np.ndarray = read_csv(\"X_test\", delimiter=delimiter)\n",
    "y_train: np.ndarray = read_csv(\"Y_train\", delimiter=delimiter)\n",
    "y_valid: np.ndarray = read_csv(\"Y_validation\", delimiter=delimiter)\n",
    "y_test: np.ndarray = read_csv(\"Y_test\", delimiter=delimiter)"
   ]
  },
  {
   "cell_type": "markdown",
   "id": "3052342c-5f07-450b-a97c-c2199a5503d7",
   "metadata": {
    "jp-MarkdownHeadingCollapsed": true,
    "tags": []
   },
   "source": [
    "# Ridge Regression"
   ]
  },
  {
   "cell_type": "code",
   "execution_count": 137,
   "id": "13abe6f8-d004-4da3-b161-f5151c5b6ba8",
   "metadata": {},
   "outputs": [
    {
     "name": "stdout",
     "output_type": "stream",
     "text": [
      "lambda:  1e-05 loss:  0.009513123344617864\n",
      "lambda:  0.0001 loss:  0.14582335587930637\n",
      "lambda:  0.001 loss:  0.815006522048313\n",
      "lambda:  0.01 loss:  1.9264346592704147\n",
      "lambda:  0.1 loss:  5.194430634934523\n",
      "lambda:  1 loss:  8.110925613622788\n",
      "lambda:  10 loss:  9.514414393989966\n",
      "lambda:  100 loss:  14.590096622253947\n",
      "lambda:  1000 loss:  16.04179128127179\n",
      "lambda:  10000 loss:  16.209789852424393\n",
      "lambda:  100000 loss:  16.226848278192513\n",
      "----------------\n",
      "Choose lambda:  1e-05 min loss 0.009513123344617864\n",
      "theta result is: \n",
      " [ 9.74533006e+00  9.92172264e+00 -9.95730131e+00 -9.90629162e+00\n",
      "  9.99360982e+00 -1.00330474e+01  1.00189008e+01 -9.97777891e+00\n",
      "  9.93426813e+00  9.94365176e+00 -2.01581492e-01  5.89248823e-02\n",
      " -1.12624707e-01  2.49848184e-02 -2.44866553e-02  2.59537571e-02\n",
      "  7.81554090e-02 -3.44079984e-02 -5.24288483e-02 -9.48556869e-02\n",
      "  1.85144774e-01 -4.78952863e-02 -1.12704776e-01 -7.76567829e-02\n",
      "  8.66276413e-03  7.45913372e-02  1.23171200e-01 -6.87315535e-02\n",
      " -1.41875503e-01  1.06717097e-01  1.43857436e-02 -1.06507375e-01\n",
      " -1.77547528e-02 -7.93887084e-02  1.02230196e-01  1.42390863e-01\n",
      "  2.08850450e-01  1.14709160e-01 -8.40422086e-02 -7.43566212e-02\n",
      " -2.31542195e-02 -2.62457222e-01 -1.20175796e-01  6.95248066e-02\n",
      " -8.07474516e-02 -3.79768748e-02  1.47878734e-02  2.00591178e-01\n",
      "  1.24935799e-01 -1.97663900e-01 -1.91086357e-02 -2.02536735e-02\n",
      " -3.43398081e-02  1.84479358e-01  1.02508857e-01  5.68910498e-02\n",
      "  1.00863017e-02  8.46871272e-03 -2.40590614e-02  1.34176708e-01\n",
      "  1.56634891e-01 -2.02563039e-01  5.08055347e-02 -2.17066023e-03\n",
      "  1.42661368e-02 -1.20608933e-01 -1.16080878e-01  4.93771635e-02\n",
      " -4.79474043e-02  1.20149613e-01  6.54190914e-02  1.69951485e-02\n",
      "  7.66643699e-02  1.89068031e-01 -6.84350140e-04]\n",
      "True zero count is 0, values smaller than 0.001 is 36\n"
     ]
    }
   ],
   "source": [
    "def ridge_regression_test():\n",
    "    (N, D) = X_train.shape\n",
    "\n",
    "    def ridge(Lambda):\n",
    "        def ridge_obj(obj_theta):\n",
    "            return ((np.linalg.norm(np.dot(X_train, obj_theta) - y_train)) ** 2) \\\n",
    "                   / (2 * N) + Lambda * (np.linalg.norm(obj_theta)) ** 2\n",
    "\n",
    "        return ridge_obj\n",
    "\n",
    "    def compute_loss(theta):\n",
    "        return ((np.linalg.norm(np.dot(X_valid, theta) - y_valid)) ** 2) / (2 * N)\n",
    "\n",
    "    w = np.random.rand(D)\n",
    "\n",
    "    min_lambda = 0\n",
    "    min_loss = 1e100\n",
    "    min_opt_result: scipy.optimize.OptimizeResult\n",
    "    for i in range(-5, 6):\n",
    "        Lambda = 10 ** i\n",
    "        w_opt = minimize(ridge(Lambda), w)\n",
    "        loss = compute_loss(w_opt.x)\n",
    "        if loss < min_loss:\n",
    "            min_loss = loss\n",
    "            min_opt_result = w_opt\n",
    "            min_lambda = Lambda\n",
    "        print(\"lambda: \", Lambda, \"loss: \", loss)\n",
    "    print(\"----------------\")\n",
    "    print(\"Choose lambda: \", min_lambda, \"min loss\", min_loss)\n",
    "    print(\"theta result is: \\n\", min_opt_result.x)\n",
    "\n",
    "    true_zero_count = 0\n",
    "    thresh_hold = 1e-3\n",
    "    small_count = 0\n",
    "    for ele in min_opt_result.x:\n",
    "        if ele == 0:\n",
    "            true_zero_count = true_zero_count + 1\n",
    "        elif ele <= thresh_hold:\n",
    "            small_count = small_count + 1\n",
    "    print(\"True zero count is {0}, values smaller than {1} is {2}\"\n",
    "          .format(true_zero_count, thresh_hold, small_count))\n",
    "\n",
    "\n",
    "construct_dataset()\n",
    "ridge_regression_test()"
   ]
  },
  {
   "cell_type": "code",
   "execution_count": null,
   "id": "1bfc8224-d4b8-462a-9319-33b781058e94",
   "metadata": {},
   "outputs": [],
   "source": []
  }
 ],
 "metadata": {
  "kernelspec": {
   "display_name": "Python 3 (ipykernel)",
   "language": "python",
   "name": "python3"
  },
  "language_info": {
   "codemirror_mode": {
    "name": "ipython",
    "version": 3
   },
   "file_extension": ".py",
   "mimetype": "text/x-python",
   "name": "python",
   "nbconvert_exporter": "python",
   "pygments_lexer": "ipython3",
   "version": "3.9.9"
  }
 },
 "nbformat": 4,
 "nbformat_minor": 5
}
