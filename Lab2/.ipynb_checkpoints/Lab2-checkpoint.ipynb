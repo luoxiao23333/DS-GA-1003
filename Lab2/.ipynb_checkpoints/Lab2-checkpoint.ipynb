{
 "cells": [
  {
   "cell_type": "markdown",
   "id": "7c2a09f5-af50-4d3f-9478-dbf907730bc5",
   "metadata": {
    "tags": []
   },
   "source": [
    "# Import and Construct Dataset"
   ]
  },
  {
   "cell_type": "code",
   "execution_count": 55,
   "id": "98e451d8-e1fd-4ba0-922d-4ffcc05cab87",
   "metadata": {},
   "outputs": [],
   "source": [
    "# Import\n",
    "import numpy as np\n",
    "from scipy.optimize import minimize\n",
    "import pandas as pd\n",
    "import matplotlib.pyplot as plt"
   ]
  },
  {
   "cell_type": "code",
   "execution_count": 34,
   "id": "eeeeb22f-18b4-480e-ade3-4183c4ee52e6",
   "metadata": {},
   "outputs": [],
   "source": [
    "# Construct Data\n",
    "root_dir: str = \"data//\"\n",
    "file_ext: str = \".csv\"\n",
    "delimiter: str = \",\"\n",
    "\n",
    "\n",
    "def get_path(file_name: str) -> str:\n",
    "    return root_dir + file_name + file_ext\n",
    "\n",
    "\n",
    "def save_csv(file_name, data: np.ndarray, delimiter):\n",
    "    frame = pd.DataFrame(data)\n",
    "    frame.to_csv(get_path(file_name), index=False, sep=delimiter,\n",
    "                 float_format=\"%.17f\")\n",
    "\n",
    "\n",
    "def read_csv(file_name, delimiter) -> np.ndarray:\n",
    "    df = pd.read_csv(get_path(file_name), delimiter=delimiter, float_precision=\"round_trip\")\n",
    "    if df.values.shape[1] == 1:\n",
    "        return df.values.T\n",
    "    return df.values\n",
    "\n",
    "\n",
    "def construct_dataset():\n",
    "    m = 150  # data rows\n",
    "    d = 75  # feature dimensions\n",
    "    X: np.ndarray = np.random.rand(m, d)\n",
    "\n",
    "    theta = np.zeros(shape=(d, 1))\n",
    "\n",
    "    theta[:10] = np.array([10 if np.random.randint(0, 2) == 0 else -10 for _ in range(10)]).reshape((10, 1))\n",
    "\n",
    "    epsilon = np.random.normal(loc=0, scale=0.1, size=(m, 1))\n",
    "\n",
    "    y: np.ndarray = np.dot(X, theta) + epsilon\n",
    "\n",
    "    save_csv(\"X_train\", X[:80], delimiter=delimiter)\n",
    "    save_csv(\"X_validation\", X[80:100], delimiter=delimiter)\n",
    "    save_csv(\"X_test\", X[100:], delimiter=delimiter)\n",
    "    save_csv(\"Y_train\", y[:80], delimiter=delimiter)\n",
    "    save_csv(\"Y_validation\", y[80:100], delimiter=delimiter)\n",
    "    save_csv(\"Y_test\", y[100:], delimiter=delimiter)"
   ]
  },
  {
   "cell_type": "code",
   "execution_count": 35,
   "id": "828e4103-45dc-4e25-90d1-4647eaaf9507",
   "metadata": {},
   "outputs": [],
   "source": [
    "# Reload data\n",
    "construct_dataset()\n",
    "X_train: np.ndarray = read_csv(\"X_train\", delimiter=delimiter)\n",
    "X_valid: np.ndarray = read_csv(\"X_validation\", delimiter=delimiter)\n",
    "X_test: np.ndarray = read_csv(\"X_test\", delimiter=delimiter)\n",
    "y_train: np.ndarray = read_csv(\"Y_train\", delimiter=delimiter)\n",
    "y_valid: np.ndarray = read_csv(\"Y_validation\", delimiter=delimiter)\n",
    "y_test: np.ndarray = read_csv(\"Y_test\", delimiter=delimiter)"
   ]
  },
  {
   "cell_type": "markdown",
   "id": "3052342c-5f07-450b-a97c-c2199a5503d7",
   "metadata": {
    "tags": []
   },
   "source": [
    "# Ridge Regression"
   ]
  },
  {
   "cell_type": "code",
   "execution_count": 58,
   "id": "13abe6f8-d004-4da3-b161-f5151c5b6ba8",
   "metadata": {},
   "outputs": [
    {
     "data": {
      "image/png": "[encoded data removed]",
      "text/plain": [
       "<Figure size 640x480 with 1 Axes>"
      ]
     },
     "metadata": {},
     "output_type": "display_data"
    },
    {
     "name": "stdout",
     "output_type": "stream",
     "text": [
      "Choose lambda: 1e-05 \t\t min loss: 0.061818419883535085\n",
      "True zero component number is 0, component smaller than 0.001 is 35, over 75 component\n",
      "----------------\n",
      "final theta by ridge regression is: \n",
      " [ 10.12521167   9.98351847 -10.15976627 -10.14796618  10.12791165\n",
      "   9.98988398  -9.87810673  10.04505122  -9.89277448   9.82647869\n",
      "   0.02091506   0.05152092   0.1813393   -0.20819706   0.05568955\n",
      "  -0.14819132  -0.11307763   0.26126133   0.17738899   0.17189129\n",
      "  -0.19193747  -0.13859146   0.1279752    0.10413599  -0.03437464\n",
      "  -0.04226624   0.01625624   0.05949321  -0.03806986   0.18433634\n",
      "   0.06637599   0.15158149  -0.12918832  -0.03763936  -0.09862487\n",
      "   0.0440002   -0.07150776  -0.16359089  -0.08687934  -0.16053254\n",
      "   0.09155155  -0.15180959  -0.20004666   0.15293425   0.0443909\n",
      "  -0.12333645   0.02937294   0.04373406   0.16994614  -0.09850967\n",
      "   0.33022742  -0.15122265   0.02353993   0.06604661   0.06290828\n",
      "  -0.22045979  -0.05772818  -0.08044257   0.02704505  -0.06373229\n",
      "  -0.21845554   0.05680479  -0.05809906  -0.0536897    0.15655732\n",
      "   0.07604961  -0.2103578    0.08301726  -0.02228435  -0.15187035\n",
      "   0.18582145   0.24433067  -0.04658609   0.01220725   0.10993661]\n"
     ]
    }
   ],
   "source": [
    "def ridge_regression_test():\n",
    "    num_train_record, num_feature = X_train.shape\n",
    "    num_test_record = X_test.shape[0]\n",
    "\n",
    "    def ridge(Lambda):\n",
    "        def ridge_obj(obj_theta):\n",
    "            return ((np.linalg.norm(np.dot(X_train, obj_theta) - y_train)) ** 2) \\\n",
    "                   / (2 * num_train_record) + Lambda * (np.linalg.norm(obj_theta)) ** 2\n",
    "\n",
    "        return ridge_obj\n",
    "\n",
    "    def compute_loss(theta):\n",
    "        return ((np.linalg.norm(np.dot(X_test, theta) - y_test)) ** 2) / (2 * num_test_record)\n",
    "\n",
    "    w = np.random.rand(num_feature)\n",
    "\n",
    "    min_lambda = 0\n",
    "    min_loss = 1e100\n",
    "    optimized_theta: np.ndarray\n",
    "    lambda_list = []\n",
    "    loss_list = []\n",
    "    for i in range(-8, 3):\n",
    "        Lambda = 10 ** i\n",
    "        w_opt = minimize(ridge(Lambda), w)\n",
    "        loss = compute_loss(w_opt.x)\n",
    "        if loss < min_loss:\n",
    "            min_loss = loss\n",
    "            optimized_theta = w_opt.x\n",
    "            min_lambda = Lambda\n",
    "        lambda_list.append(Lambda)\n",
    "        loss_list.append(loss)\n",
    "\n",
    "    plt.plot(lambda_list, loss_list)\n",
    "    plt.xscale(\"log\")\n",
    "    plt.yscale(\"log\")\n",
    "    plt.xlabel(\"regelurization lambda\")\n",
    "    plt.ylabel(\"loss\")\n",
    "    plt.title(\"loss over lambda in ridge regression\")\n",
    "    plt.show()\n",
    "\n",
    "    print(\"Choose lambda: {0} \\t\\t min loss: {1}\".format(min_lambda, min_loss))\n",
    "\n",
    "    true_zero_count = 0\n",
    "    thresh_hold = 1e-3\n",
    "    small_count = 0\n",
    "    for ele in optimized_theta:\n",
    "        if ele == 0:\n",
    "            true_zero_count = true_zero_count + 1\n",
    "        elif ele <= thresh_hold:\n",
    "            small_count = small_count + 1\n",
    "    print(\"True zero component number is {0}, \"\n",
    "          \"component smaller than {1} is {2}, \"\n",
    "          \"over {3} component\"\n",
    "          .format(true_zero_count,\n",
    "                  thresh_hold,\n",
    "                  small_count,\n",
    "                  optimized_theta.shape[0]))\n",
    "\n",
    "    print(\"----------------\")\n",
    "    print(\"final theta by ridge regression is: \\n\", optimized_theta)\n",
    "\n",
    "\n",
    "ridge_regression_test()"
   ]
  },
  {
   "cell_type": "code",
   "execution_count": null,
   "id": "4e8dff37-ab65-4c22-936f-a6e42fbc9959",
   "metadata": {},
   "outputs": [],
   "source": []
  }
 ],
 "metadata": {
  "kernelspec": {
   "display_name": "Python 3 (ipykernel)",
   "language": "python",
   "name": "python3"
  },
  "language_info": {
   "codemirror_mode": {
    "name": "ipython",
    "version": 3
   },
   "file_extension": ".py",
   "mimetype": "text/x-python",
   "name": "python",
   "nbconvert_exporter": "python",
   "pygments_lexer": "ipython3",
   "version": "3.9.9"
  }
 },
 "nbformat": 4,
 "nbformat_minor": 5
}
