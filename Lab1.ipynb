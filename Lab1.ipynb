{
 "cells": [
  {
   "cell_type": "markdown",
   "id": "12795c8a-4a4d-429b-a8ef-062ada31b6cd",
   "metadata": {
    "tags": []
   },
   "source": [
    "# Lab1 Gradient Descent"
   ]
  },
  {
   "cell_type": "markdown",
   "id": "f0822b39-7a97-4f3f-be0f-491d6974abfc",
   "metadata": {
    "jp-MarkdownHeadingCollapsed": true,
    "tags": []
   },
   "source": [
    "# Import and Init Dataset"
   ]
  },
  {
   "cell_type": "code",
   "execution_count": 52,
   "id": "92f1f477-872d-41b4-8a50-3477c5efac86",
   "metadata": {},
   "outputs": [],
   "source": [
    "# Import\n",
    "import configparser\n",
    "import distutils.log\n",
    "import matplotlib.pyplot as plt\n",
    "import numpy\n",
    "import pandas as pd\n",
    "import numpy as np\n",
    "from sklearn.model_selection import train_test_split"
   ]
  },
  {
   "cell_type": "code",
   "execution_count": 157,
   "id": "18bde0a8-8395-4e19-b052-12f2546c75ae",
   "metadata": {},
   "outputs": [],
   "source": [
    "# Init data\n",
    "df = pd.read_csv('D:\\\\学术资料\\\\硕士\\\\NYU\\\\DS-GA-1003\\\\Week1\\\\hw1\\\\hw1-sgd\\\\hw1-data.csv', delimiter=',')\n",
    "X = df.values[:, :-1]\n",
    "y = df.values[:, -1]\n",
    "X_train, X_test, y_train, y_test = train_test_split(X, y, test_size=100, random_state=10)\n",
    "X_train, X_test = feature_normalization(X_train, X_test)\n",
    "X_train = np.hstack((X_train, np.ones((X_train.shape[0], 1))))  # Add bias term\n",
    "X_test = np.hstack((X_test, np.ones((X_test.shape[0], 1))))  # Add bias term"
   ]
  },
  {
   "cell_type": "markdown",
   "id": "4a8a3d56-e78a-4d54-9e17-02cdb4a0242f",
   "metadata": {
    "tags": []
   },
   "source": [
    "# Feature Normalization\n",
    "only operate train dataset.\n",
    "shift all data to ensure they are all larger than 0, then rescale them into [0,1]  \n",
    "$X_{norm}=\\frac{X-X{min}}{X_{max}\\ \\ \\ \\ -\\ X_{min}}$\n",
    "## Wanrning  \n",
    "数据标准化必须以特征列为单位。不能所有数据共同标准化。因为不同feature的数据尺度不同。"
   ]
  },
  {
   "cell_type": "code",
   "execution_count": 156,
   "id": "54b9121e-569e-4e8d-bb17-4fa808c85343",
   "metadata": {},
   "outputs": [],
   "source": [
    "def feature_normalization(train: np.ndarray, test: np.ndarray) -> [np.ndarray, np.ndarray]:\n",
    "    \"\"\"Rescale the data so that each feature in the training set is in\n",
    "    the interval [0,1], and apply the same transformations to the test\n",
    "    set, using the statistics computed on the training set.\n",
    "\n",
    "    Args:\n",
    "        train - training set, a 2D numpy array of size (num_instances, num_features)\n",
    "        test  - test set, a 2D numpy array of size (num_instances, num_features)\n",
    "    Returns:\n",
    "        train_normalized - training set after normalization\n",
    "        test_normalized  - test set after normalization\n",
    "\n",
    "    \"\"\"\n",
    "\n",
    "    min_value: np.ndarray = np.min(train,axis=0)\n",
    "    max_value: np.ndarray = np.max(train,axis=0)\n",
    "    \n",
    "    train_normalized = (train - min_value) / (max_value - min_value + 0.0)\n",
    "    test_normalized = (test - min_value) / (max_value - min_value + 0.0)\n",
    "\n",
    "    return train_normalized, test_normalized"
   ]
  },
  {
   "cell_type": "markdown",
   "id": "45537739-c751-4927-87f1-95bd811099e0",
   "metadata": {
    "tags": []
   },
   "source": [
    "# Compute Square Loss\n",
    "Given a set of X, y, theta, compute the square loss for predicting y with X*theta   \n",
    "loss func: $J(\\theta)=\\frac{1}{2m}\\sum_{i=1}^{m}(h_{\\theta}(x_i)-y_i)^2$  \n",
    "In matrix formulation, $h_{\\theta}(x_i)=\\theta ^{T}x_i$  \n",
    "So $J(\\theta)=\\frac{1}{2m}(X\\theta^{T}-y)(X\\theta^{T}-y)^{T}$  \n"
   ]
  },
  {
   "cell_type": "code",
   "execution_count": 143,
   "id": "d692465f-4d7c-42a1-aa6c-025f7905f462",
   "metadata": {},
   "outputs": [],
   "source": [
    "def compute_square_loss(X: np.ndarray, y: np.ndarray, theta: np.ndarray) -> float:\n",
    "    \"\"\"\n",
    "    Given a set of X, y, theta, compute the square loss for predicting y with X*theta\n",
    "\n",
    "    Args:\n",
    "        X - the feature vector, 2D numpy array of size (num_instances, num_features)\n",
    "        y - the label vector, 1D numpy array of size (num_instances)\n",
    "        theta - the parameter vector, 1D array of size (num_features)\n",
    "\n",
    "    Returns:\n",
    "        loss - the square loss, scalar\n",
    "    \"\"\"\n",
    "\n",
    "    num_instances = X.shape[0]\n",
    "    auction = np.dot(X, theta)\n",
    "    difference: np.ndarray = auction - y\n",
    "\n",
    "    loss: float = 0.5 / num_instances * np.dot(difference, difference)\n",
    "    return loss"
   ]
  },
  {
   "cell_type": "markdown",
   "id": "89a08485-f095-4719-a065-79c8840ae010",
   "metadata": {
    "jp-MarkdownHeadingCollapsed": true,
    "tags": []
   },
   "source": [
    "# Compute Square Loss Gradient\n",
    "$J(\\theta)=\\frac{1}{2m}(X\\theta^{T})(X\\theta^{T})^{T}$   \n",
    "$\\bigtriangledown\\theta J(\\theta)=\\frac{1}{m}(X\\theta^{T})X$"
   ]
  },
  {
   "cell_type": "code",
   "execution_count": 144,
   "id": "e3861f65-a2f1-4ab2-9580-2d01fba2f044",
   "metadata": {},
   "outputs": [],
   "source": [
    "def compute_square_loss_gradient(X: np.ndarray, y: np.ndarray, theta: np.ndarray) -> np.ndarray:\n",
    "    \"\"\"\n",
    "    Compute gradient of the square loss (as defined in compute_square_loss), at the point theta.\n",
    "\n",
    "    Args:\n",
    "        X - the feature vector, 2D numpy array of size (num_instances, num_features)\n",
    "        y - the label vector, 1D numpy array of size (num_instances)\n",
    "        theta - the parameter vector, 1D numpy array of size (num_features)\n",
    "\n",
    "    Returns:\n",
    "        grad - gradient vector, 1D numpy array of size (num_features)\n",
    "    \"\"\"\n",
    "\n",
    "    num_instances = X.shape[0]\n",
    "    difference: np.ndarray = np.dot(X, theta) - y\n",
    "    grad = 1.0 / (num_instances+0.0) * np.dot(X.transpose(), difference)\n",
    "    return grad"
   ]
  },
  {
   "cell_type": "markdown",
   "id": "6a5f0d84-be2d-4f93-873d-35ce9c4a6f11",
   "metadata": {
    "jp-MarkdownHeadingCollapsed": true,
    "tags": []
   },
   "source": [
    "# Gradient Check\n",
    "Check that the function compute_square_loss_gradient returns the correct gradient for the given X, y, and theta.  \n",
    "For all directions: let $e_1 = (1,0,0,\\dots,0), e_2 = (0,1,0,\\dots,0), \\dots, e_d = (0,\\dots,0,1)$  \n",
    "Use approximation: $\\frac{J(\\theta + epsilon * e_i) - J(\\theta - epsilon * e_i)}{(2*epsilon)}$ for each direction  \n",
    "Then for each direction of gradient, check if Euclidean distance of approximation and computed is exceed tolerance(1e-4 default)  "
   ]
  },
  {
   "cell_type": "code",
   "execution_count": 102,
   "id": "30487476-d731-44e9-9897-77fff1fc0bff",
   "metadata": {},
   "outputs": [],
   "source": [
    "def grad_checker(X: np.ndarray, y: np.ndarray, theta: np.ndarray, epsilon=0.01, tolerance=1e-4) -> bool:\n",
    "    \"\"\"Implement Gradient Checker\n",
    "    Check that the function compute_square_loss_gradient returns the\n",
    "    correct gradient for the given X, y, and theta.\n",
    "\n",
    "    Let d be the number of features. Here we numerically estimate the\n",
    "    gradient by approximating the directional derivative in each of\n",
    "    the d coordinate directions:\n",
    "    (e_1 = (1,0,0,...,0), e_2 = (0,1,0,...,0), ..., e_d = (0,...,0,1)\n",
    "\n",
    "    The approximation for the directional derivative of J at the point\n",
    "    theta in the direction e_i is given by:\n",
    "    ( J(theta + epsilon * e_i) - J(theta - epsilon * e_i) ) / (2*epsilon).\n",
    "\n",
    "    We then look at the Euclidean distance between the gradient\n",
    "    computed using this approximation and the gradient computed by\n",
    "    compute_square_loss_gradient(X, y, theta).  If the Euclidean\n",
    "    distance exceeds tolerance, we say the gradient is incorrect.\n",
    "\n",
    "    Args:\n",
    "        X - the feature vector, 2D numpy array of size (num_instances, num_features)\n",
    "        y - the label vector, 1D numpy array of size (num_instances)\n",
    "        theta - the parameter vector, 1D numpy array of size (num_features)\n",
    "        epsilon - the epsilon used in approximation\n",
    "        tolerance - the tolerance error\n",
    "\n",
    "    Return:\n",
    "        A boolean value indicate whether the gradient is correct or not\n",
    "\n",
    "    \"\"\"\n",
    "    true_gradient: np.ndarray = compute_square_loss_gradient(X, y, theta)  # the true gradient\n",
    "    num_features = theta.shape[0]\n",
    "    approx_grad: np.ndarray = np.zeros(num_features)  # Initialize the gradient we approximate\n",
    "    # TODO\n",
    "    for index in range(num_features):\n",
    "        e_i = np.zeros(num_features)\n",
    "        e_i[index] = 1\n",
    "        theta_plus = theta + epsilon * e_i\n",
    "        theta_minus = theta - epsilon * e_i\n",
    "        approx_grad[index] = \\\n",
    "            (compute_square_loss(X, y, theta_plus) - compute_square_loss(X, y, theta_minus)) \\\n",
    "            / (2 * epsilon)\n",
    "    distance = np.linalg.norm(approx_grad-true_gradient)\n",
    "    return distance < tolerance"
   ]
  },
  {
   "cell_type": "markdown",
   "id": "fbeb649c-b3f3-49cc-9c9c-16e7058b0576",
   "metadata": {
    "jp-MarkdownHeadingCollapsed": true,
    "tags": []
   },
   "source": [
    "# Generic Gradient Checker\n",
    "Similar as Gradient Checker\n",
    "The functions takes objective_func and gradient_func as parameters. And check whether gradient_func(X, y, theta) returned  \n",
    "the true gradient for objective_func(X, y, theta).  \n",
    "Eg: In LSR, the objective_func = compute_square_loss, and gradient_func = compute_square_loss_gradient  "
   ]
  },
  {
   "cell_type": "code",
   "execution_count": 26,
   "id": "e6a4c30e-ccc5-4924-8980-068eac3af05d",
   "metadata": {},
   "outputs": [],
   "source": [
    "def generic_gradient_checker(X, y, theta, objective_func, gradient_func, epsilon=0.01, tolerance=1e-4):\n",
    "    \"\"\"\n",
    "    The functions takes objective_func and gradient_func as parameters. And check whether gradient_func(X, y, theta) returned\n",
    "    the true gradient for objective_func(X, y, theta).\n",
    "    Eg: In LSR, the objective_func = compute_square_loss, and gradient_func = compute_square_loss_gradient\n",
    "    \"\"\"\n",
    "    true_gradient: np.ndarray = gradient_func(X, y, theta)  # the true gradient\n",
    "    num_features = theta.shape[0]\n",
    "    approx_grad: np.ndarray = np.zeros(num_features)  # Initialize the gradient we approximate\n",
    "\n",
    "    for index in range(num_features):\n",
    "        e_i = np.zeros(num_features)\n",
    "        e_i[index] = 1\n",
    "        theta_plus = theta + epsilon * e_i\n",
    "        theta_minus = theta - epsilon * e_i\n",
    "        approx_grad[index] = \\\n",
    "            (objective_func(X, y, theta_plus) - objective_func(X, y, theta_minus)) \\\n",
    "            / (2 * epsilon)\n",
    "    distance = np.linalg.norm(approx_grad - true_gradient)\n",
    "    return distance < tolerance"
   ]
  },
  {
   "cell_type": "markdown",
   "id": "c80edb5c-1615-4f37-93ae-3f1c7d2bc514",
   "metadata": {
    "jp-MarkdownHeadingCollapsed": true,
    "tags": []
   },
   "source": [
    "# Batch Grad Descent  \n",
    "每次迭代计算梯度，然后$\\theta$下降一次梯度"
   ]
  },
  {
   "cell_type": "code",
   "execution_count": 122,
   "id": "460aacdf-a884-430b-8598-a55d42589f86",
   "metadata": {},
   "outputs": [],
   "source": [
    "def batch_grad_descent(X: np.ndarray, y: np.ndarray, step_size=0.1, num_iter=1000, check_gradient=False) \\\n",
    "        -> [np.ndarray, np.ndarray]:\n",
    "    \"\"\"\n",
    "    In this question you will implement batch gradient descent to\n",
    "    minimize the square loss objective\n",
    "\n",
    "    Args:\n",
    "        X - the feature vector, 2D numpy array of size (num_instances, num_features)\n",
    "        y - the label vector, 1D numpy array of size (num_instances)\n",
    "        step - step size in gradient descent\n",
    "        num_iter - number of iterations to run\n",
    "        check_gradient - a boolean value indicating whether checking the gradient when updating\n",
    "\n",
    "    Returns:\n",
    "        theta_hist - store the history of parameter vector in iteration, 2D numpy array of size (num_iter+1, num_features)\n",
    "                    for instance, theta in iteration 0 should be theta_hist[0], theta in iteration (num_iter) is theta_hist[-1]\n",
    "        loss_hist - the history of objective function vector, 1D numpy array of size (num_iter+1)\n",
    "    \"\"\"\n",
    "    num_instances, num_features = X.shape[0], X.shape[1]\n",
    "    theta_hist = np.zeros((num_iter + 1, num_features))  # Initialize theta_hist\n",
    "    loss_hist = np.zeros(num_iter + 1)  # initialize loss_hist\n",
    "    theta = np.ones(num_features)  # initialize theta\n",
    "    # TODO\n",
    "    theta_hist[0] = theta\n",
    "    loss_hist[0] = compute_square_loss(X, y, theta)\n",
    "\n",
    "    for iteration in range(1, num_iter + 1):\n",
    "        if check_gradient:\n",
    "            assert (grad_checker(X, y, theta) is True)\n",
    "        grad = compute_square_loss_gradient(X, y, theta)\n",
    "        theta = theta - step_size*grad.transpose()\n",
    "        theta_hist[iteration] = theta\n",
    "        loss = compute_square_loss(X, y, theta.transpose())\n",
    "        loss_hist[iteration] = loss\n",
    "\n",
    "    return theta_hist, loss_hist"
   ]
  },
  {
   "cell_type": "markdown",
   "id": "87556e1e-8b76-4422-8c69-e80dec5c3ee8",
   "metadata": {},
   "source": [
    "## Draw Convergence Diagram\n",
    "Try step sizes 0.5, 0.1, 0.05, 0.01. Plot the value of the objective function as a function of the number of steps for each step sizes. Briefly summarize your findings."
   ]
  },
  {
   "cell_type": "code",
   "execution_count": 154,
   "id": "c70c42db-e5bb-4254-a743-1b87f0c29f7f",
   "metadata": {},
   "outputs": [
    {
     "data": {
      "image/png": "[encoded data removed]",
      "text/plain": [
       "<Figure size 640x480 with 1 Axes>"
      ]
     },
     "metadata": {},
     "output_type": "display_data"
    }
   ],
   "source": [
    "num_iter = 1000\n",
    "def converge_test(X, y):\n",
    "    step_sizes = np.array([0.001, 0.01, 0.05, 0.1, 0.101])\n",
    "    for step_size in step_sizes:\n",
    "        _, loss_hist = batch_grad_descent(X,y,step_size=step_size, num_iter=num_iter, check_gradient=False)\n",
    "        plt.plot(loss_hist, label=step_size)\n",
    "    \n",
    "    plt.xlabel('Iterations')\n",
    "    plt.ylabel('Loss')\n",
    "    plt.yscale('log')    \n",
    "    plt.title('Convergence Rates by Step Size')\n",
    "    plt.legend()\n",
    "    plt.show()\n",
    "    \n",
    "converge_test(X_train,y_train)"
   ]
  },
  {
   "cell_type": "code",
   "execution_count": null,
   "id": "20067354-2ccb-4f6a-80b0-033e3a071992",
   "metadata": {},
   "outputs": [],
   "source": []
  }
 ],
 "metadata": {
  "kernelspec": {
   "display_name": "Python 3 (ipykernel)",
   "language": "python",
   "name": "python3"
  },
  "language_info": {
   "codemirror_mode": {
    "name": "ipython",
    "version": 3
   },
   "file_extension": ".py",
   "mimetype": "text/x-python",
   "name": "python",
   "nbconvert_exporter": "python",
   "pygments_lexer": "ipython3",
   "version": "3.9.9"
  }
 },
 "nbformat": 4,
 "nbformat_minor": 5
}
